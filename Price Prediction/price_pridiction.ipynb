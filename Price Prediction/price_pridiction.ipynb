{
 "cells": [
  {
   "cell_type": "code",
   "execution_count": 78,
   "id": "d5ad727f-a821-43d9-8f8d-40babc97751c",
   "metadata": {},
   "outputs": [],
   "source": [
    "import pandas as pd\n",
    "import numpy as np\n",
    "from sklearn.preprocessing import MinMaxScaler\n",
    "from sklearn.model_selection import train_test_split\n",
    "from tensorflow.keras.models import Sequential\n",
    "from tensorflow.keras.layers import LSTM, Dense\n",
    "import matplotlib.pyplot as plt\n"
   ]
  },
  {
   "cell_type": "code",
   "execution_count": 80,
   "id": "630684af-ccf4-4fd1-a1d8-731d7ea375c1",
   "metadata": {},
   "outputs": [],
   "source": [
    "dataset=pd.read_csv(r\"E:\\tops\\Data science\\ML Model\\Price Prediction\\data.csv\")\n"
   ]
  },
  {
   "cell_type": "code",
   "execution_count": 81,
   "id": "28cb55a5-c3bc-457e-9ad5-46f832ac1f78",
   "metadata": {},
   "outputs": [
    {
     "data": {
      "text/html": [
       "<div>\n",
       "<style scoped>\n",
       "    .dataframe tbody tr th:only-of-type {\n",
       "        vertical-align: middle;\n",
       "    }\n",
       "\n",
       "    .dataframe tbody tr th {\n",
       "        vertical-align: top;\n",
       "    }\n",
       "\n",
       "    .dataframe thead th {\n",
       "        text-align: right;\n",
       "    }\n",
       "</style>\n",
       "<table border=\"1\" class=\"dataframe\">\n",
       "  <thead>\n",
       "    <tr style=\"text-align: right;\">\n",
       "      <th></th>\n",
       "      <th>Date</th>\n",
       "      <th>Price</th>\n",
       "      <th>Open</th>\n",
       "      <th>High</th>\n",
       "      <th>Low</th>\n",
       "      <th>Volume</th>\n",
       "      <th>Change(%)</th>\n",
       "    </tr>\n",
       "  </thead>\n",
       "  <tbody>\n",
       "    <tr>\n",
       "      <th>0</th>\n",
       "      <td>24-Sep-25</td>\n",
       "      <td>494.70</td>\n",
       "      <td>490.75</td>\n",
       "      <td>495.80</td>\n",
       "      <td>483.50</td>\n",
       "      <td>1568815</td>\n",
       "      <td>1.16%</td>\n",
       "    </tr>\n",
       "    <tr>\n",
       "      <th>1</th>\n",
       "      <td>23-Sep-25</td>\n",
       "      <td>489.05</td>\n",
       "      <td>486.40</td>\n",
       "      <td>497.65</td>\n",
       "      <td>486.35</td>\n",
       "      <td>2074346</td>\n",
       "      <td>0.54%</td>\n",
       "    </tr>\n",
       "    <tr>\n",
       "      <th>2</th>\n",
       "      <td>22-Sep-25</td>\n",
       "      <td>486.40</td>\n",
       "      <td>483.00</td>\n",
       "      <td>490.40</td>\n",
       "      <td>481.35</td>\n",
       "      <td>1131081</td>\n",
       "      <td>1.20%</td>\n",
       "    </tr>\n",
       "    <tr>\n",
       "      <th>3</th>\n",
       "      <td>19-Sep-25</td>\n",
       "      <td>480.65</td>\n",
       "      <td>485.00</td>\n",
       "      <td>485.05</td>\n",
       "      <td>476.05</td>\n",
       "      <td>947737</td>\n",
       "      <td>-0.80%</td>\n",
       "    </tr>\n",
       "    <tr>\n",
       "      <th>4</th>\n",
       "      <td>18-Sep-25</td>\n",
       "      <td>484.55</td>\n",
       "      <td>486.70</td>\n",
       "      <td>491.00</td>\n",
       "      <td>481.25</td>\n",
       "      <td>610388</td>\n",
       "      <td>0.23%</td>\n",
       "    </tr>\n",
       "    <tr>\n",
       "      <th>5</th>\n",
       "      <td>17-Sep-25</td>\n",
       "      <td>483.45</td>\n",
       "      <td>493.95</td>\n",
       "      <td>499.00</td>\n",
       "      <td>482.25</td>\n",
       "      <td>2095486</td>\n",
       "      <td>-0.58%</td>\n",
       "    </tr>\n",
       "    <tr>\n",
       "      <th>6</th>\n",
       "      <td>16-Sep-25</td>\n",
       "      <td>486.25</td>\n",
       "      <td>480.50</td>\n",
       "      <td>491.00</td>\n",
       "      <td>479.75</td>\n",
       "      <td>1587021</td>\n",
       "      <td>1.47%</td>\n",
       "    </tr>\n",
       "    <tr>\n",
       "      <th>7</th>\n",
       "      <td>15-Sep-25</td>\n",
       "      <td>479.20</td>\n",
       "      <td>476.00</td>\n",
       "      <td>486.40</td>\n",
       "      <td>470.55</td>\n",
       "      <td>975708</td>\n",
       "      <td>0.79%</td>\n",
       "    </tr>\n",
       "    <tr>\n",
       "      <th>8</th>\n",
       "      <td>12-Sep-25</td>\n",
       "      <td>475.45</td>\n",
       "      <td>480.15</td>\n",
       "      <td>481.00</td>\n",
       "      <td>470.00</td>\n",
       "      <td>1390599</td>\n",
       "      <td>-0.49%</td>\n",
       "    </tr>\n",
       "    <tr>\n",
       "      <th>9</th>\n",
       "      <td>11-Sep-25</td>\n",
       "      <td>477.80</td>\n",
       "      <td>480.15</td>\n",
       "      <td>480.30</td>\n",
       "      <td>475.15</td>\n",
       "      <td>642776</td>\n",
       "      <td>-0.36%</td>\n",
       "    </tr>\n",
       "  </tbody>\n",
       "</table>\n",
       "</div>"
      ],
      "text/plain": [
       "        Date   Price    Open    High     Low   Volume Change(%)\n",
       "0  24-Sep-25  494.70  490.75  495.80  483.50  1568815     1.16%\n",
       "1  23-Sep-25  489.05  486.40  497.65  486.35  2074346     0.54%\n",
       "2  22-Sep-25  486.40  483.00  490.40  481.35  1131081     1.20%\n",
       "3  19-Sep-25  480.65  485.00  485.05  476.05   947737    -0.80%\n",
       "4  18-Sep-25  484.55  486.70  491.00  481.25   610388     0.23%\n",
       "5  17-Sep-25  483.45  493.95  499.00  482.25  2095486    -0.58%\n",
       "6  16-Sep-25  486.25  480.50  491.00  479.75  1587021     1.47%\n",
       "7  15-Sep-25  479.20  476.00  486.40  470.55   975708     0.79%\n",
       "8  12-Sep-25  475.45  480.15  481.00  470.00  1390599    -0.49%\n",
       "9  11-Sep-25  477.80  480.15  480.30  475.15   642776    -0.36%"
      ]
     },
     "execution_count": 81,
     "metadata": {},
     "output_type": "execute_result"
    }
   ],
   "source": [
    "dataset.head(10)"
   ]
  },
  {
   "cell_type": "code",
   "execution_count": 85,
   "id": "3c5ae0ef-a80c-489a-acfd-1ebcbbc56267",
   "metadata": {},
   "outputs": [],
   "source": [
    "dataset=dataset.dropna()"
   ]
  },
  {
   "cell_type": "code",
   "execution_count": 91,
   "id": "7cb205d9-a0a1-4ad6-9d00-41c13900f9c7",
   "metadata": {},
   "outputs": [
    {
     "data": {
      "text/plain": [
       "Date      0\n",
       "Price     0\n",
       "Open      0\n",
       "High      0\n",
       "Low       0\n",
       "Volume    0\n",
       "Change    0\n",
       "target    0\n",
       "dtype: int64"
      ]
     },
     "execution_count": 91,
     "metadata": {},
     "output_type": "execute_result"
    }
   ],
   "source": [
    "dataset.isnull().sum()"
   ]
  },
  {
   "cell_type": "code",
   "execution_count": 83,
   "id": "f57a1bf2-8da8-4ecb-95f6-38aa6f8dd4ca",
   "metadata": {},
   "outputs": [],
   "source": [
    "dataset['target']=dataset['Price'].shift(3)"
   ]
  },
  {
   "cell_type": "code",
   "execution_count": 87,
   "id": "0f06caaf-e632-48df-88aa-3d2cf1d43705",
   "metadata": {},
   "outputs": [],
   "source": [
    "dataset['Change(%)'] = dataset['Change(%)'].str.replace('%','').astype(float)"
   ]
  },
  {
   "cell_type": "code",
   "execution_count": 89,
   "id": "0acbb4c7-328c-4b2e-9506-cc750ef5e24a",
   "metadata": {},
   "outputs": [],
   "source": [
    "from sklearn.ensemble import RandomForestRegressor\n",
    "from sklearn.model_selection import train_test_split"
   ]
  },
  {
   "cell_type": "code",
   "execution_count": 90,
   "id": "ef7948b8-30bf-4bd8-8941-279ba7014fca",
   "metadata": {},
   "outputs": [
    {
     "name": "stdout",
     "output_type": "stream",
     "text": [
      "Index(['Date', 'Price', 'Open', 'High', 'Low', 'Volume', 'Change', 'target'], dtype='object')\n"
     ]
    }
   ],
   "source": [
    "dataset.columns = dataset.columns.str.strip()\n",
    "dataset.rename(columns=lambda x: x.replace('%','').replace('(','').replace(')',''), inplace=True)\n",
    "print(dataset.columns)\n"
   ]
  },
  {
   "cell_type": "code",
   "execution_count": 111,
   "id": "8df70070-1474-4384-beb1-aaa8e9eb198d",
   "metadata": {},
   "outputs": [
    {
     "data": {
      "text/html": [
       "<div>\n",
       "<style scoped>\n",
       "    .dataframe tbody tr th:only-of-type {\n",
       "        vertical-align: middle;\n",
       "    }\n",
       "\n",
       "    .dataframe tbody tr th {\n",
       "        vertical-align: top;\n",
       "    }\n",
       "\n",
       "    .dataframe thead th {\n",
       "        text-align: right;\n",
       "    }\n",
       "</style>\n",
       "<table border=\"1\" class=\"dataframe\">\n",
       "  <thead>\n",
       "    <tr style=\"text-align: right;\">\n",
       "      <th></th>\n",
       "      <th>Date</th>\n",
       "      <th>Price</th>\n",
       "      <th>Open</th>\n",
       "      <th>High</th>\n",
       "      <th>Low</th>\n",
       "      <th>Volume</th>\n",
       "      <th>Change</th>\n",
       "      <th>target</th>\n",
       "    </tr>\n",
       "  </thead>\n",
       "  <tbody>\n",
       "    <tr>\n",
       "      <th>3</th>\n",
       "      <td>19-Sep-25</td>\n",
       "      <td>480.65</td>\n",
       "      <td>485.00</td>\n",
       "      <td>485.05</td>\n",
       "      <td>476.05</td>\n",
       "      <td>947737</td>\n",
       "      <td>-0.80</td>\n",
       "      <td>494.70</td>\n",
       "    </tr>\n",
       "    <tr>\n",
       "      <th>4</th>\n",
       "      <td>18-Sep-25</td>\n",
       "      <td>484.55</td>\n",
       "      <td>486.70</td>\n",
       "      <td>491.00</td>\n",
       "      <td>481.25</td>\n",
       "      <td>610388</td>\n",
       "      <td>0.23</td>\n",
       "      <td>489.05</td>\n",
       "    </tr>\n",
       "    <tr>\n",
       "      <th>5</th>\n",
       "      <td>17-Sep-25</td>\n",
       "      <td>483.45</td>\n",
       "      <td>493.95</td>\n",
       "      <td>499.00</td>\n",
       "      <td>482.25</td>\n",
       "      <td>2095486</td>\n",
       "      <td>-0.58</td>\n",
       "      <td>486.40</td>\n",
       "    </tr>\n",
       "    <tr>\n",
       "      <th>6</th>\n",
       "      <td>16-Sep-25</td>\n",
       "      <td>486.25</td>\n",
       "      <td>480.50</td>\n",
       "      <td>491.00</td>\n",
       "      <td>479.75</td>\n",
       "      <td>1587021</td>\n",
       "      <td>1.47</td>\n",
       "      <td>480.65</td>\n",
       "    </tr>\n",
       "    <tr>\n",
       "      <th>7</th>\n",
       "      <td>15-Sep-25</td>\n",
       "      <td>479.20</td>\n",
       "      <td>476.00</td>\n",
       "      <td>486.40</td>\n",
       "      <td>470.55</td>\n",
       "      <td>975708</td>\n",
       "      <td>0.79</td>\n",
       "      <td>484.55</td>\n",
       "    </tr>\n",
       "    <tr>\n",
       "      <th>8</th>\n",
       "      <td>12-Sep-25</td>\n",
       "      <td>475.45</td>\n",
       "      <td>480.15</td>\n",
       "      <td>481.00</td>\n",
       "      <td>470.00</td>\n",
       "      <td>1390599</td>\n",
       "      <td>-0.49</td>\n",
       "      <td>483.45</td>\n",
       "    </tr>\n",
       "    <tr>\n",
       "      <th>9</th>\n",
       "      <td>11-Sep-25</td>\n",
       "      <td>477.80</td>\n",
       "      <td>480.15</td>\n",
       "      <td>480.30</td>\n",
       "      <td>475.15</td>\n",
       "      <td>642776</td>\n",
       "      <td>-0.36</td>\n",
       "      <td>486.25</td>\n",
       "    </tr>\n",
       "    <tr>\n",
       "      <th>10</th>\n",
       "      <td>10-Sep-25</td>\n",
       "      <td>479.55</td>\n",
       "      <td>483.50</td>\n",
       "      <td>483.90</td>\n",
       "      <td>473.10</td>\n",
       "      <td>875353</td>\n",
       "      <td>-0.38</td>\n",
       "      <td>479.20</td>\n",
       "    </tr>\n",
       "    <tr>\n",
       "      <th>11</th>\n",
       "      <td>09-Sep-25</td>\n",
       "      <td>481.40</td>\n",
       "      <td>482.65</td>\n",
       "      <td>485.00</td>\n",
       "      <td>477.25</td>\n",
       "      <td>447151</td>\n",
       "      <td>0.29</td>\n",
       "      <td>475.45</td>\n",
       "    </tr>\n",
       "    <tr>\n",
       "      <th>12</th>\n",
       "      <td>08-Sep-25</td>\n",
       "      <td>480.00</td>\n",
       "      <td>484.95</td>\n",
       "      <td>491.00</td>\n",
       "      <td>478.35</td>\n",
       "      <td>638840</td>\n",
       "      <td>-0.58</td>\n",
       "      <td>477.80</td>\n",
       "    </tr>\n",
       "  </tbody>\n",
       "</table>\n",
       "</div>"
      ],
      "text/plain": [
       "         Date   Price    Open    High     Low   Volume  Change  target\n",
       "3   19-Sep-25  480.65  485.00  485.05  476.05   947737   -0.80  494.70\n",
       "4   18-Sep-25  484.55  486.70  491.00  481.25   610388    0.23  489.05\n",
       "5   17-Sep-25  483.45  493.95  499.00  482.25  2095486   -0.58  486.40\n",
       "6   16-Sep-25  486.25  480.50  491.00  479.75  1587021    1.47  480.65\n",
       "7   15-Sep-25  479.20  476.00  486.40  470.55   975708    0.79  484.55\n",
       "8   12-Sep-25  475.45  480.15  481.00  470.00  1390599   -0.49  483.45\n",
       "9   11-Sep-25  477.80  480.15  480.30  475.15   642776   -0.36  486.25\n",
       "10  10-Sep-25  479.55  483.50  483.90  473.10   875353   -0.38  479.20\n",
       "11  09-Sep-25  481.40  482.65  485.00  477.25   447151    0.29  475.45\n",
       "12  08-Sep-25  480.00  484.95  491.00  478.35   638840   -0.58  477.80"
      ]
     },
     "execution_count": 111,
     "metadata": {},
     "output_type": "execute_result"
    }
   ],
   "source": [
    "dataset.head(10)"
   ]
  },
  {
   "cell_type": "code",
   "execution_count": 97,
   "id": "2509fe30-2a61-4f37-b540-335e587543f0",
   "metadata": {},
   "outputs": [],
   "source": [
    "# सिर्फ simple list बनाओ\n",
    "features = ['Price', 'Open', 'High', 'Low', 'Volume', 'Change']\n",
    "\n",
    "# dataframe से select करो\n",
    "X = dataset[features].values\n",
    "\n",
    "# target\n",
    "y = dataset['target'].values.reshape(-1,1)\n"
   ]
  },
  {
   "cell_type": "code",
   "execution_count": 99,
   "id": "26bd5822-5ffc-44c8-b66f-1acea5ba6ee1",
   "metadata": {},
   "outputs": [],
   "source": [
    "scaler_X = MinMaxScaler()\n",
    "scaler_y = MinMaxScaler()\n",
    "X_scaled = scaler_X.fit_transform(X)\n",
    "y_scaled = scaler_y.fit_transform(y)"
   ]
  },
  {
   "cell_type": "code",
   "execution_count": 100,
   "id": "56615c1b-9b59-4c5b-a345-5dcdefdf366e",
   "metadata": {},
   "outputs": [],
   "source": [
    "# yaha hum 1 timestep use kar rahe hain (aaj ka data -> 3 din baad)\n",
    "X_lstm = X_scaled.reshape((X_scaled.shape[0], 1, X_scaled.shape[1]))\n"
   ]
  },
  {
   "cell_type": "code",
   "execution_count": 101,
   "id": "60ca3d7d-d3d7-4007-ad77-78238bf4c4f4",
   "metadata": {},
   "outputs": [],
   "source": [
    "split = int(0.8 * len(X_lstm))\n",
    "X_train, X_test = X_lstm[:split], X_lstm[split:]\n",
    "y_train, y_test = y_scaled[:split], y_scaled[split:]\n"
   ]
  },
  {
   "cell_type": "code",
   "execution_count": 102,
   "id": "c358471a-cf1d-4449-8138-b5cb65f66212",
   "metadata": {},
   "outputs": [
    {
     "name": "stderr",
     "output_type": "stream",
     "text": [
      "E:\\app\\anaconda3\\Lib\\site-packages\\keras\\src\\layers\\rnn\\rnn.py:199: UserWarning: Do not pass an `input_shape`/`input_dim` argument to a layer. When using Sequential models, prefer using an `Input(shape)` object as the first layer in the model instead.\n",
      "  super().__init__(**kwargs)\n"
     ]
    },
    {
     "name": "stdout",
     "output_type": "stream",
     "text": [
      "Epoch 1/50\n",
      "\u001b[1m62/62\u001b[0m \u001b[32m━━━━━━━━━━━━━━━━━━━━\u001b[0m\u001b[37m\u001b[0m \u001b[1m3s\u001b[0m 10ms/step - loss: 0.2395 - val_loss: 0.0041\n",
      "Epoch 2/50\n",
      "\u001b[1m62/62\u001b[0m \u001b[32m━━━━━━━━━━━━━━━━━━━━\u001b[0m\u001b[37m\u001b[0m \u001b[1m0s\u001b[0m 5ms/step - loss: 0.0167 - val_loss: 0.0250\n",
      "Epoch 3/50\n",
      "\u001b[1m62/62\u001b[0m \u001b[32m━━━━━━━━━━━━━━━━━━━━\u001b[0m\u001b[37m\u001b[0m \u001b[1m0s\u001b[0m 5ms/step - loss: 0.0051 - val_loss: 0.0139\n",
      "Epoch 4/50\n",
      "\u001b[1m62/62\u001b[0m \u001b[32m━━━━━━━━━━━━━━━━━━━━\u001b[0m\u001b[37m\u001b[0m \u001b[1m0s\u001b[0m 5ms/step - loss: 0.0026 - val_loss: 0.0047\n",
      "Epoch 5/50\n",
      "\u001b[1m62/62\u001b[0m \u001b[32m━━━━━━━━━━━━━━━━━━━━\u001b[0m\u001b[37m\u001b[0m \u001b[1m0s\u001b[0m 6ms/step - loss: 0.0014 - val_loss: 0.0016\n",
      "Epoch 6/50\n",
      "\u001b[1m62/62\u001b[0m \u001b[32m━━━━━━━━━━━━━━━━━━━━\u001b[0m\u001b[37m\u001b[0m \u001b[1m0s\u001b[0m 5ms/step - loss: 0.0011 - val_loss: 9.5748e-04\n",
      "Epoch 7/50\n",
      "\u001b[1m62/62\u001b[0m \u001b[32m━━━━━━━━━━━━━━━━━━━━\u001b[0m\u001b[37m\u001b[0m \u001b[1m0s\u001b[0m 6ms/step - loss: 0.0010 - val_loss: 8.4383e-04\n",
      "Epoch 8/50\n",
      "\u001b[1m62/62\u001b[0m \u001b[32m━━━━━━━━━━━━━━━━━━━━\u001b[0m\u001b[37m\u001b[0m \u001b[1m0s\u001b[0m 6ms/step - loss: 0.0010 - val_loss: 7.4467e-04\n",
      "Epoch 9/50\n",
      "\u001b[1m62/62\u001b[0m \u001b[32m━━━━━━━━━━━━━━━━━━━━\u001b[0m\u001b[37m\u001b[0m \u001b[1m0s\u001b[0m 6ms/step - loss: 9.7054e-04 - val_loss: 6.9283e-04\n",
      "Epoch 10/50\n",
      "\u001b[1m62/62\u001b[0m \u001b[32m━━━━━━━━━━━━━━━━━━━━\u001b[0m\u001b[37m\u001b[0m \u001b[1m0s\u001b[0m 6ms/step - loss: 9.5953e-04 - val_loss: 6.8550e-04\n",
      "Epoch 11/50\n",
      "\u001b[1m62/62\u001b[0m \u001b[32m━━━━━━━━━━━━━━━━━━━━\u001b[0m\u001b[37m\u001b[0m \u001b[1m0s\u001b[0m 5ms/step - loss: 9.5865e-04 - val_loss: 6.5662e-04\n",
      "Epoch 12/50\n",
      "\u001b[1m62/62\u001b[0m \u001b[32m━━━━━━━━━━━━━━━━━━━━\u001b[0m\u001b[37m\u001b[0m \u001b[1m0s\u001b[0m 6ms/step - loss: 9.4360e-04 - val_loss: 6.4224e-04\n",
      "Epoch 13/50\n",
      "\u001b[1m62/62\u001b[0m \u001b[32m━━━━━━━━━━━━━━━━━━━━\u001b[0m\u001b[37m\u001b[0m \u001b[1m0s\u001b[0m 6ms/step - loss: 9.3055e-04 - val_loss: 6.3296e-04\n",
      "Epoch 14/50\n",
      "\u001b[1m62/62\u001b[0m \u001b[32m━━━━━━━━━━━━━━━━━━━━\u001b[0m\u001b[37m\u001b[0m \u001b[1m0s\u001b[0m 6ms/step - loss: 9.2278e-04 - val_loss: 6.2249e-04\n",
      "Epoch 15/50\n",
      "\u001b[1m62/62\u001b[0m \u001b[32m━━━━━━━━━━━━━━━━━━━━\u001b[0m\u001b[37m\u001b[0m \u001b[1m1s\u001b[0m 7ms/step - loss: 9.1511e-04 - val_loss: 6.2906e-04\n",
      "Epoch 16/50\n",
      "\u001b[1m62/62\u001b[0m \u001b[32m━━━━━━━━━━━━━━━━━━━━\u001b[0m\u001b[37m\u001b[0m \u001b[1m0s\u001b[0m 6ms/step - loss: 9.2641e-04 - val_loss: 6.0457e-04\n",
      "Epoch 17/50\n",
      "\u001b[1m62/62\u001b[0m \u001b[32m━━━━━━━━━━━━━━━━━━━━\u001b[0m\u001b[37m\u001b[0m \u001b[1m0s\u001b[0m 6ms/step - loss: 9.1554e-04 - val_loss: 5.9974e-04\n",
      "Epoch 18/50\n",
      "\u001b[1m62/62\u001b[0m \u001b[32m━━━━━━━━━━━━━━━━━━━━\u001b[0m\u001b[37m\u001b[0m \u001b[1m0s\u001b[0m 7ms/step - loss: 9.0801e-04 - val_loss: 5.9239e-04\n",
      "Epoch 19/50\n",
      "\u001b[1m62/62\u001b[0m \u001b[32m━━━━━━━━━━━━━━━━━━━━\u001b[0m\u001b[37m\u001b[0m \u001b[1m0s\u001b[0m 6ms/step - loss: 9.0881e-04 - val_loss: 5.8631e-04\n",
      "Epoch 20/50\n",
      "\u001b[1m62/62\u001b[0m \u001b[32m━━━━━━━━━━━━━━━━━━━━\u001b[0m\u001b[37m\u001b[0m \u001b[1m0s\u001b[0m 6ms/step - loss: 8.9941e-04 - val_loss: 5.9810e-04\n",
      "Epoch 21/50\n",
      "\u001b[1m62/62\u001b[0m \u001b[32m━━━━━━━━━━━━━━━━━━━━\u001b[0m\u001b[37m\u001b[0m \u001b[1m0s\u001b[0m 6ms/step - loss: 9.0210e-04 - val_loss: 5.8371e-04\n",
      "Epoch 22/50\n",
      "\u001b[1m62/62\u001b[0m \u001b[32m━━━━━━━━━━━━━━━━━━━━\u001b[0m\u001b[37m\u001b[0m \u001b[1m0s\u001b[0m 6ms/step - loss: 9.0211e-04 - val_loss: 5.9705e-04\n",
      "Epoch 23/50\n",
      "\u001b[1m62/62\u001b[0m \u001b[32m━━━━━━━━━━━━━━━━━━━━\u001b[0m\u001b[37m\u001b[0m \u001b[1m0s\u001b[0m 7ms/step - loss: 8.9887e-04 - val_loss: 5.7135e-04\n",
      "Epoch 24/50\n",
      "\u001b[1m62/62\u001b[0m \u001b[32m━━━━━━━━━━━━━━━━━━━━\u001b[0m\u001b[37m\u001b[0m \u001b[1m0s\u001b[0m 6ms/step - loss: 8.8805e-04 - val_loss: 5.6056e-04\n",
      "Epoch 25/50\n",
      "\u001b[1m62/62\u001b[0m \u001b[32m━━━━━━━━━━━━━━━━━━━━\u001b[0m\u001b[37m\u001b[0m \u001b[1m0s\u001b[0m 6ms/step - loss: 8.9102e-04 - val_loss: 5.5313e-04\n",
      "Epoch 26/50\n",
      "\u001b[1m62/62\u001b[0m \u001b[32m━━━━━━━━━━━━━━━━━━━━\u001b[0m\u001b[37m\u001b[0m \u001b[1m0s\u001b[0m 5ms/step - loss: 8.9855e-04 - val_loss: 5.7651e-04\n",
      "Epoch 27/50\n",
      "\u001b[1m62/62\u001b[0m \u001b[32m━━━━━━━━━━━━━━━━━━━━\u001b[0m\u001b[37m\u001b[0m \u001b[1m0s\u001b[0m 6ms/step - loss: 8.8726e-04 - val_loss: 5.6707e-04\n",
      "Epoch 28/50\n",
      "\u001b[1m62/62\u001b[0m \u001b[32m━━━━━━━━━━━━━━━━━━━━\u001b[0m\u001b[37m\u001b[0m \u001b[1m0s\u001b[0m 6ms/step - loss: 8.9760e-04 - val_loss: 5.5636e-04\n",
      "Epoch 29/50\n",
      "\u001b[1m62/62\u001b[0m \u001b[32m━━━━━━━━━━━━━━━━━━━━\u001b[0m\u001b[37m\u001b[0m \u001b[1m0s\u001b[0m 6ms/step - loss: 8.8737e-04 - val_loss: 6.2672e-04\n",
      "Epoch 30/50\n",
      "\u001b[1m62/62\u001b[0m \u001b[32m━━━━━━━━━━━━━━━━━━━━\u001b[0m\u001b[37m\u001b[0m \u001b[1m0s\u001b[0m 6ms/step - loss: 8.8603e-04 - val_loss: 5.4529e-04\n",
      "Epoch 31/50\n",
      "\u001b[1m62/62\u001b[0m \u001b[32m━━━━━━━━━━━━━━━━━━━━\u001b[0m\u001b[37m\u001b[0m \u001b[1m0s\u001b[0m 5ms/step - loss: 8.9156e-04 - val_loss: 6.3342e-04\n",
      "Epoch 32/50\n",
      "\u001b[1m62/62\u001b[0m \u001b[32m━━━━━━━━━━━━━━━━━━━━\u001b[0m\u001b[37m\u001b[0m \u001b[1m0s\u001b[0m 5ms/step - loss: 8.9611e-04 - val_loss: 5.4839e-04\n",
      "Epoch 33/50\n",
      "\u001b[1m62/62\u001b[0m \u001b[32m━━━━━━━━━━━━━━━━━━━━\u001b[0m\u001b[37m\u001b[0m \u001b[1m0s\u001b[0m 5ms/step - loss: 9.0514e-04 - val_loss: 5.5246e-04\n",
      "Epoch 34/50\n",
      "\u001b[1m62/62\u001b[0m \u001b[32m━━━━━━━━━━━━━━━━━━━━\u001b[0m\u001b[37m\u001b[0m \u001b[1m0s\u001b[0m 6ms/step - loss: 8.8163e-04 - val_loss: 5.1883e-04\n",
      "Epoch 35/50\n",
      "\u001b[1m62/62\u001b[0m \u001b[32m━━━━━━━━━━━━━━━━━━━━\u001b[0m\u001b[37m\u001b[0m \u001b[1m0s\u001b[0m 6ms/step - loss: 8.7747e-04 - val_loss: 5.4954e-04\n",
      "Epoch 36/50\n",
      "\u001b[1m62/62\u001b[0m \u001b[32m━━━━━━━━━━━━━━━━━━━━\u001b[0m\u001b[37m\u001b[0m \u001b[1m0s\u001b[0m 5ms/step - loss: 8.6480e-04 - val_loss: 5.2878e-04\n",
      "Epoch 37/50\n",
      "\u001b[1m62/62\u001b[0m \u001b[32m━━━━━━━━━━━━━━━━━━━━\u001b[0m\u001b[37m\u001b[0m \u001b[1m0s\u001b[0m 6ms/step - loss: 8.8359e-04 - val_loss: 5.1578e-04\n",
      "Epoch 38/50\n",
      "\u001b[1m62/62\u001b[0m \u001b[32m━━━━━━━━━━━━━━━━━━━━\u001b[0m\u001b[37m\u001b[0m \u001b[1m0s\u001b[0m 7ms/step - loss: 8.7697e-04 - val_loss: 5.1382e-04\n",
      "Epoch 39/50\n",
      "\u001b[1m62/62\u001b[0m \u001b[32m━━━━━━━━━━━━━━━━━━━━\u001b[0m\u001b[37m\u001b[0m \u001b[1m0s\u001b[0m 6ms/step - loss: 8.8110e-04 - val_loss: 5.1458e-04\n",
      "Epoch 40/50\n",
      "\u001b[1m62/62\u001b[0m \u001b[32m━━━━━━━━━━━━━━━━━━━━\u001b[0m\u001b[37m\u001b[0m \u001b[1m0s\u001b[0m 6ms/step - loss: 8.8434e-04 - val_loss: 5.2802e-04\n",
      "Epoch 41/50\n",
      "\u001b[1m62/62\u001b[0m \u001b[32m━━━━━━━━━━━━━━━━━━━━\u001b[0m\u001b[37m\u001b[0m \u001b[1m0s\u001b[0m 6ms/step - loss: 8.7989e-04 - val_loss: 6.1545e-04\n",
      "Epoch 42/50\n",
      "\u001b[1m62/62\u001b[0m \u001b[32m━━━━━━━━━━━━━━━━━━━━\u001b[0m\u001b[37m\u001b[0m \u001b[1m0s\u001b[0m 6ms/step - loss: 8.7754e-04 - val_loss: 5.1997e-04\n",
      "Epoch 43/50\n",
      "\u001b[1m62/62\u001b[0m \u001b[32m━━━━━━━━━━━━━━━━━━━━\u001b[0m\u001b[37m\u001b[0m \u001b[1m0s\u001b[0m 5ms/step - loss: 8.7385e-04 - val_loss: 5.1070e-04\n",
      "Epoch 44/50\n",
      "\u001b[1m62/62\u001b[0m \u001b[32m━━━━━━━━━━━━━━━━━━━━\u001b[0m\u001b[37m\u001b[0m \u001b[1m0s\u001b[0m 7ms/step - loss: 8.7779e-04 - val_loss: 5.2604e-04\n",
      "Epoch 45/50\n",
      "\u001b[1m62/62\u001b[0m \u001b[32m━━━━━━━━━━━━━━━━━━━━\u001b[0m\u001b[37m\u001b[0m \u001b[1m0s\u001b[0m 5ms/step - loss: 8.8624e-04 - val_loss: 5.7489e-04\n",
      "Epoch 46/50\n",
      "\u001b[1m62/62\u001b[0m \u001b[32m━━━━━━━━━━━━━━━━━━━━\u001b[0m\u001b[37m\u001b[0m \u001b[1m0s\u001b[0m 6ms/step - loss: 8.9175e-04 - val_loss: 4.9814e-04\n",
      "Epoch 47/50\n",
      "\u001b[1m62/62\u001b[0m \u001b[32m━━━━━━━━━━━━━━━━━━━━\u001b[0m\u001b[37m\u001b[0m \u001b[1m0s\u001b[0m 6ms/step - loss: 8.8980e-04 - val_loss: 5.2123e-04\n",
      "Epoch 48/50\n",
      "\u001b[1m62/62\u001b[0m \u001b[32m━━━━━━━━━━━━━━━━━━━━\u001b[0m\u001b[37m\u001b[0m \u001b[1m0s\u001b[0m 6ms/step - loss: 8.6620e-04 - val_loss: 5.0206e-04\n",
      "Epoch 49/50\n",
      "\u001b[1m62/62\u001b[0m \u001b[32m━━━━━━━━━━━━━━━━━━━━\u001b[0m\u001b[37m\u001b[0m \u001b[1m0s\u001b[0m 6ms/step - loss: 8.7882e-04 - val_loss: 5.2236e-04\n",
      "Epoch 50/50\n",
      "\u001b[1m62/62\u001b[0m \u001b[32m━━━━━━━━━━━━━━━━━━━━\u001b[0m\u001b[37m\u001b[0m \u001b[1m0s\u001b[0m 6ms/step - loss: 8.6823e-04 - val_loss: 5.5287e-04\n"
     ]
    }
   ],
   "source": [
    "model = Sequential()\n",
    "model.add(LSTM(50, activation='relu', input_shape=(X_train.shape[1], X_train.shape[2])))\n",
    "model.add(Dense(1))  # output = price\n",
    "model.compile(optimizer='adam', loss='mse')\n",
    "\n",
    "# Model Train\n",
    "history = model.fit(X_train, y_train, epochs=50, batch_size=16, validation_data=(X_test, y_test))\n"
   ]
  },
  {
   "cell_type": "code",
   "execution_count": 103,
   "id": "36138cd7-70b3-4d61-9b84-6033825ee962",
   "metadata": {},
   "outputs": [
    {
     "name": "stdout",
     "output_type": "stream",
     "text": [
      "\u001b[1m8/8\u001b[0m \u001b[32m━━━━━━━━━━━━━━━━━━━━\u001b[0m\u001b[37m\u001b[0m \u001b[1m1s\u001b[0m 33ms/step \n"
     ]
    },
    {
     "data": {
      "image/png": "[encoded data removed]",
      "text/plain": [
       "<Figure size 640x480 with 1 Axes>"
      ]
     },
     "metadata": {},
     "output_type": "display_data"
    }
   ],
   "source": [
    "# Test set predict\n",
    "y_pred_scaled = model.predict(X_test)\n",
    "y_pred = scaler_y.inverse_transform(y_pred_scaled)\n",
    "\n",
    "# Actual prices\n",
    "y_actual = scaler_y.inverse_transform(y_test)\n",
    "\n",
    "# Compare plot\n",
    "plt.plot(y_actual, label='Actual Price')\n",
    "plt.plot(y_pred, label='Predicted Price')\n",
    "plt.legend()\n",
    "plt.show()\n"
   ]
  },
  {
   "cell_type": "code",
   "execution_count": 127,
   "id": "910da028-ef5c-4124-a785-eb4222e00576",
   "metadata": {},
   "outputs": [],
   "source": [
    "import numpy as np\n",
    "\n",
    "# आज का data\n",
    "today_data = np.array([[493.25,494.35,495.90,488.20,1016000,-0.29]])\n"
   ]
  },
  {
   "cell_type": "code",
   "execution_count": 128,
   "id": "2b920141-cfa9-4f95-8e75-089e00eab309",
   "metadata": {},
   "outputs": [],
   "source": [
    "today_scaled = scaler_X.transform(today_data)  # scaler_X = training scaler\n"
   ]
  },
  {
   "cell_type": "code",
   "execution_count": 129,
   "id": "6a7f6432-da18-4205-8e99-b5fbc232ee55",
   "metadata": {},
   "outputs": [],
   "source": [
    "today_scaled = today_scaled.reshape(1, 1, today_scaled.shape[1])\n"
   ]
  },
  {
   "cell_type": "code",
   "execution_count": 130,
   "id": "726c24cf-2dff-43b4-9704-edd9a07227c6",
   "metadata": {},
   "outputs": [
    {
     "name": "stdout",
     "output_type": "stream",
     "text": [
      "\u001b[1m1/1\u001b[0m \u001b[32m━━━━━━━━━━━━━━━━━━━━\u001b[0m\u001b[37m\u001b[0m \u001b[1m0s\u001b[0m 79ms/step\n"
     ]
    }
   ],
   "source": [
    "predicted_scaled = model.predict(today_scaled)\n"
   ]
  },
  {
   "cell_type": "code",
   "execution_count": 131,
   "id": "0e1e0369-0072-45c4-8122-69dfe8c9e244",
   "metadata": {},
   "outputs": [
    {
     "name": "stdout",
     "output_type": "stream",
     "text": [
      "3 दिन बाद की predicted price: 494.88904\n"
     ]
    }
   ],
   "source": [
    "predicted_price = scaler_y.inverse_transform(predicted_scaled)\n",
    "print(\"3 daye after predicted price:\", predicted_price[0][0])\n"
   ]
  }
 ],
 "metadata": {
  "kernelspec": {
   "display_name": "Python 3 (ipykernel)",
   "language": "python",
   "name": "python3"
  },
  "language_info": {
   "codemirror_mode": {
    "name": "ipython",
    "version": 3
   },
   "file_extension": ".py",
   "mimetype": "text/x-python",
   "name": "python",
   "nbconvert_exporter": "python",
   "pygments_lexer": "ipython3",
   "version": "3.13.5"
  }
 },
 "nbformat": 4,
 "nbformat_minor": 5
}
